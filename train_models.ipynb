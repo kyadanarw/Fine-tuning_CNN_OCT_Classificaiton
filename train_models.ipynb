{
 "cells": [
  {
   "cell_type": "markdown",
   "metadata": {},
   "source": [
    "This notebook demonstrates fine-tuning seven pretrained models ['Xception','InceptionV3','ResNet101','VGG19','DenseNet201',MobileNetV2',EfficientNetB2'] for classification of retinal diseases on OCT images. "
   ]
  },
  {
   "cell_type": "code",
   "execution_count": null,
   "metadata": {},
   "outputs": [],
   "source": [
    "# First import the necessary libraries\n",
    "\n",
    "import os\n",
    "import random\n",
    "\n",
    "import numpy as np\n",
    "import matplotlib.pyplot as plt\n",
    "import seaborn as sns\n",
    "import sklearn\n",
    "import tensorflow as tf\n",
    "import tensorflow_addons as tfa\n",
    "from tensorflow.keras.preprocessing.image import ImageDataGenerator, load_img"
   ]
  },
  {
   "cell_type": "code",
   "execution_count": null,
   "metadata": {},
   "outputs": [],
   "source": [
    "#import functons_cnn_OCT.ipynb\n",
    "import os\n",
    "import sys\n",
    "module_path = os.path.abspath(os.path.join('..'))\n",
    "if module_path not in sys.path:\n",
    "    sys.path.append(module_path)\n",
    "    \n",
    "from ipynb.fs.full.functions_cnn_OCT import *"
   ]
  },
  {
   "cell_type": "code",
   "execution_count": null,
   "metadata": {},
   "outputs": [],
   "source": [
    "# Call the root directory of OCT images\n",
    "base_dir = os.path.join(\"/kaggle/input/kermany2018/oct2017/OCT2017 /\")\n",
    "print('Base directory --> ', os.listdir(base_dir))"
   ]
  },
  {
   "cell_type": "code",
   "execution_count": null,
   "metadata": {},
   "outputs": [],
   "source": [
    "# Call the train, validation and test directory paths and store them appropriately\n",
    "\n",
    "train_dir = os.path.join(base_dir + \"train/\")\n",
    "print(\"Train Directory --> \", os.listdir(train_dir))\n",
    "\n",
    "validation_dir = os.path.join(base_dir + \"val/\")\n",
    "print(\"Validation Directory --> \", os.listdir(validation_dir))\n",
    "\n",
    "test_dir = os.path.join(base_dir + \"test/\")\n",
    "print(\"Test Directory --> \", os.listdir(test_dir))"
   ]
  },
  {
   "cell_type": "code",
   "execution_count": null,
   "metadata": {},
   "outputs": [],
   "source": [
    "#call the display_image function from functions.ipynb to display the random images\n",
    "display_image(train_dir)"
   ]
  },
  {
   "cell_type": "code",
   "execution_count": null,
   "metadata": {},
   "outputs": [],
   "source": [
    "#generate the model using generate_model function from functions.ipynb\n",
    "#input the pretrained models from ['Xception','InceptionV3','ResNet101','VGG19','DenseNet201',MobileNetV2',EfficientNetB2']\n",
    "model=generate_model('DenseNet201')"
   ]
  },
  {
   "cell_type": "code",
   "execution_count": null,
   "metadata": {},
   "outputs": [],
   "source": [
    "#prepare the metrics and data generators to train the model\n",
    "#list the metrics \n",
    "metrics_list = ['accuracy',\n",
    "                tf.keras.metrics.AUC(),\n",
    "                tfa.metrics.CohenKappa(num_classes = 4),\n",
    "                tfa.metrics.F1Score(num_classes = 4),\n",
    "                tf.keras.metrics.Precision(), \n",
    "                tf.keras.metrics.Recall()]\n",
    "\n",
    "#generate train_generator\n",
    "train_datagen = ImageDataGenerator(rescale = 1./255)\n",
    "train_generator = train_datagen.flow_from_directory(train_dir, target_size = (150, 150), class_mode = 'categorical', batch_size = 100)\n",
    "\n",
    "#generate validation_generator\n",
    "validation_datagen = ImageDataGenerator(rescale = 1./255)\n",
    "validation_generator = validation_datagen.flow_from_directory(validation_dir, target_size = (150, 150), class_mode = 'categorical', batch_size = 16)\n",
    "\n",
    "#generate test_generator\n",
    "test_datagen = ImageDataGenerator(rescale = 1./255)\n",
    "test_generator = test_datagen.flow_from_directory(test_dir, target_size = (150, 150), class_mode = 'categorical', batch_size = 44)"
   ]
  },
  {
   "cell_type": "code",
   "execution_count": null,
   "metadata": {},
   "outputs": [],
   "source": [
    "#train the model\n",
    "#input model architecture, train dataset, validationd dataset, number_of_epcohs, optimizer and metrics list\n",
    "#here the models were trained using 100 epochs with adam optimizer, six performance measures\n",
    "trained_model,trained_history=train_model(model,train_generator,validation_generator,100, 'adam', metrics_list)"
   ]
  },
  {
   "cell_type": "code",
   "execution_count": null,
   "metadata": {},
   "outputs": [],
   "source": [
    "#Once the training process is finished, plot the learning curves\n",
    "plot_acc_loss(trained_model,trained_history)"
   ]
  },
  {
   "cell_type": "code",
   "execution_count": null,
   "metadata": {},
   "outputs": [],
   "source": [
    "#evaluate the model using evaluate_model_function from functions.ipynb\n",
    "#this function will output accuracy, AUC, Cohen Kappa, F score, precision and recall\n",
    "evaluate_model(trained_model,trained_history,test_generator)"
   ]
  },
  {
   "cell_type": "code",
   "execution_count": null,
   "metadata": {},
   "outputs": [],
   "source": [
    "#test the model using test_model function\n",
    "#this will output confusion matrix, classificaiotn report and performance metrics\n",
    "test_model(trained_model,test_generator)"
   ]
  },
  {
   "cell_type": "code",
   "execution_count": null,
   "metadata": {},
   "outputs": [],
   "source": [
    "#Import COde to save Pretrained Models\n",
    "#after run this code, it will show the file available. can download manually\n",
    "from IPython.display import FileLink, FileLinks\n",
    "FileLinks('.') #lists all downloadable files on server"
   ]
  },
  {
   "cell_type": "code",
   "execution_count": null,
   "metadata": {},
   "outputs": [],
   "source": [
    "#save the train model for future \n",
    "trained_model.save(\"/kaggle/working/DenseNet201_best_model.h5\")"
   ]
  },
  {
   "cell_type": "code",
   "execution_count": null,
   "metadata": {},
   "outputs": [],
   "source": [
    "#here is another way to save it\n",
    "# serialize model to JSON\n",
    "model_json = model.to_json()\n",
    "with open(\"model.json\", \"w\") as json_file:\n",
    "    json_file.write(model_json)\n",
    "# serialize weights to HDF5\n",
    "model.save_weights(\"Best_DenseNet.h5\")\n",
    "print(\"Saved model to disk\")"
   ]
  }
 ],
 "metadata": {
  "kernelspec": {
   "display_name": "Python 3",
   "language": "python",
   "name": "python3"
  },
  "language_info": {
   "codemirror_mode": {
    "name": "ipython",
    "version": 3
   },
   "file_extension": ".py",
   "mimetype": "text/x-python",
   "name": "python",
   "nbconvert_exporter": "python",
   "pygments_lexer": "ipython3",
   "version": "3.7.4"
  }
 },
 "nbformat": 4,
 "nbformat_minor": 4
}
